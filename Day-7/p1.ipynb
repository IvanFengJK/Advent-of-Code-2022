{
 "cells": [
  {
   "cell_type": "code",
   "execution_count": 152,
   "metadata": {},
   "outputs": [],
   "source": [
    "with open('p1.txt', 'r') as f:\n",
    "    lines = f.readlines()"
   ]
  },
  {
   "cell_type": "code",
   "execution_count": 153,
   "metadata": {},
   "outputs": [],
   "source": [
    "dir = {}\n",
    "current = []\n",
    "\n",
    "for line in lines:\n",
    "    if line[0] == '$':\n",
    "        if line.strip() != '$ ls':\n",
    "            command = [each.strip() for each in line.split(' ')]\n",
    "            if command[2] == '..':\n",
    "                current.pop()\n",
    "                continue\n",
    "\n",
    "            if command[2] == '/':\n",
    "                current = ['.']\n",
    "            else:\n",
    "                current.append(command[2])\n",
    "                \n",
    "            path = '/'.join(current)\n",
    "            if not(dir.get(path)):\n",
    "                dir[path] = 0\n",
    "\n",
    "    else:\n",
    "        if line[:3] != 'dir':\n",
    "            size = int(line.split()[0])\n",
    "            for i in range(len(current)):\n",
    "                path = '/'.join(current[:i+1])\n",
    "                dir[path] += size"
   ]
  },
  {
   "cell_type": "code",
   "execution_count": 157,
   "metadata": {},
   "outputs": [
    {
     "name": "stdout",
     "output_type": "stream",
     "text": [
      "1348005\n"
     ]
    }
   ],
   "source": [
    "sum = 0\n",
    "for key, val in dir.items():\n",
    "    if val <= 100000:\n",
    "        sum += val\n",
    "print(sum)"
   ]
  },
  {
   "cell_type": "code",
   "execution_count": null,
   "metadata": {},
   "outputs": [],
   "source": []
  }
 ],
 "metadata": {
  "kernelspec": {
   "display_name": "Python 3.8.5 ('pytorch_base')",
   "language": "python",
   "name": "python3"
  },
  "language_info": {
   "codemirror_mode": {
    "name": "ipython",
    "version": 3
   },
   "file_extension": ".py",
   "mimetype": "text/x-python",
   "name": "python",
   "nbconvert_exporter": "python",
   "pygments_lexer": "ipython3",
   "version": "3.8.5"
  },
  "orig_nbformat": 4,
  "vscode": {
   "interpreter": {
    "hash": "7dc36fd19514296e611d847b8a0fc5b21044d3c31fd201d70b11fa05d247b2fb"
   }
  }
 },
 "nbformat": 4,
 "nbformat_minor": 2
}

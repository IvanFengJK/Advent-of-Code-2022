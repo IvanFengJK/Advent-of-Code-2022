{
 "cells": [
  {
   "cell_type": "code",
   "execution_count": 13,
   "metadata": {},
   "outputs": [],
   "source": [
    "import re\n",
    "\n",
    "with open('p1.txt', 'r') as f:\n",
    "    lines = f.readlines()\n",
    "\n",
    "def man_dist(a, b):\n",
    "    x1, y1 = a\n",
    "    x2, y2 = b\n",
    "    return abs(x1 - x2) + abs(y1 - y2)\n",
    "\n",
    "sensors = [[int(re.findall(r'\\=\\s*(-?\\d+)', l)[0]), int(re.findall(r'\\=\\s*(-?\\d+)', l)[1])] for l in lines]\n",
    "beacons = [[int(re.findall(r'\\=\\s*(-?\\d+)', l)[2]), int(re.findall(r'\\=\\s*(-?\\d+)', l)[3])] for l in lines]\n",
    "distances = [man_dist(s,b) for s,b in zip(sensors, beacons)]"
   ]
  },
  {
   "cell_type": "code",
   "execution_count": 14,
   "metadata": {},
   "outputs": [],
   "source": [
    "positive_grads = set()\n",
    "negative_grads = set()\n",
    "\n",
    "for s, d in zip(sensors, distances):\n",
    "    x = s[0]\n",
    "    y = s[1]\n",
    "    \"\"\"\n",
    "    Top Left\n",
    "    y = (x+d+1) + q\n",
    "    q = y - x - d - 1\n",
    "    Bottom Right\n",
    "    y = (x-d-1) + q\n",
    "    q = y - x + d + 1\n",
    "    Top Right\n",
    "    y = -(x+d+1) + q\n",
    "    q = y + x + d + 1\n",
    "    Bottom Left\n",
    "    y = -(x-d-1) + q\n",
    "    q = y + x - d - 1\n",
    "    \"\"\"\n",
    "    positive_grads.add(y - x - d - 1)\n",
    "    positive_grads.add(y - x + d + 1)\n",
    "\n",
    "    negative_grads.add(y + x + d + 1)\n",
    "    negative_grads.add(y + x - d - 1)\n",
    "    "
   ]
  },
  {
   "cell_type": "code",
   "execution_count": 15,
   "metadata": {},
   "outputs": [],
   "source": [
    "def man_dist(a, b):\n",
    "    x1, y1 = a\n",
    "    x2, y2 = b\n",
    "    return abs(x1 - x2) + abs(y1 - y2)"
   ]
  },
  {
   "cell_type": "code",
   "execution_count": 17,
   "metadata": {},
   "outputs": [
    {
     "name": "stdout",
     "output_type": "stream",
     "text": [
      "[3433501, 2908372]\n",
      "13734006908372\n"
     ]
    }
   ],
   "source": [
    "\"\"\"\n",
    "y = x + q1\n",
    "y = -x + q2\n",
    "\n",
    "x + q1 = -x + q2\n",
    "x = (q2 - q1)/2\n",
    "\n",
    "y = (q2 - q1)/2 + q1\n",
    "y = (q2 - q1 + 2q1)/2\n",
    "y = (q2 + q1)/2\n",
    "\"\"\"\n",
    "limit = 4000000\n",
    "\n",
    "for pos_grad in positive_grads:\n",
    "    for neg_grad in negative_grads:\n",
    "        temp_x = (neg_grad - pos_grad)//2\n",
    "        if 0<temp_x<limit:\n",
    "            temp_y = (neg_grad + pos_grad)//2\n",
    "            if 0<temp_y<limit:\n",
    "                temp_point = [temp_x, temp_y]\n",
    "                if all([man_dist(temp_point, s)>d for s,d in zip(sensors, distances)]):\n",
    "                    print(temp_point)\n",
    "                    print(4000000 * temp_x + temp_y)\n",
    "                    break\n"
   ]
  },
  {
   "cell_type": "code",
   "execution_count": null,
   "metadata": {},
   "outputs": [],
   "source": []
  }
 ],
 "metadata": {
  "kernelspec": {
   "display_name": "basic",
   "language": "python",
   "name": "python3"
  },
  "language_info": {
   "codemirror_mode": {
    "name": "ipython",
    "version": 3
   },
   "file_extension": ".py",
   "mimetype": "text/x-python",
   "name": "python",
   "nbconvert_exporter": "python",
   "pygments_lexer": "ipython3",
   "version": "3.8.15"
  },
  "orig_nbformat": 4,
  "vscode": {
   "interpreter": {
    "hash": "ede8a7a26c2d44551ffbefd9259acaca339609cdd98d78804e9f1a546f7915fb"
   }
  }
 },
 "nbformat": 4,
 "nbformat_minor": 2
}

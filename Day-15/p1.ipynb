{
 "cells": [
  {
   "cell_type": "code",
   "execution_count": 98,
   "metadata": {},
   "outputs": [],
   "source": [
    "import re\n",
    "\n",
    "with open('p1.txt', 'r') as f:\n",
    "    lines = f.readlines()\n",
    "\n",
    "sensors = [[int(re.findall(r'\\=\\s*(-?\\d+)', l)[0]), int(re.findall(r'\\=\\s*(-?\\d+)', l)[1])] for l in lines]\n",
    "beacons = [[int(re.findall(r'\\=\\s*(-?\\d+)', l)[2]), int(re.findall(r'\\=\\s*(-?\\d+)', l)[3])] for l in lines]"
   ]
  },
  {
   "cell_type": "code",
   "execution_count": 99,
   "metadata": {},
   "outputs": [],
   "source": [
    "def man_dist(a, b):\n",
    "    x1, y1 = a\n",
    "    x2, y2 = b\n",
    "    return abs(x1 - x2) + abs(y1 - y2)"
   ]
  },
  {
   "cell_type": "code",
   "execution_count": 100,
   "metadata": {},
   "outputs": [],
   "source": [
    "chosen_row = 2000000\n",
    "pos_not_present = set()\n",
    "\n",
    "for s, b in zip(sensors, beacons):\n",
    "        criteria = man_dist(s,b)\n",
    "        row_diff = abs(s[1]-chosen_row)\n",
    "        if criteria - row_diff > -1:\n",
    "            start = s[0] - criteria + row_diff\n",
    "            end = s[0]+criteria - row_diff\n",
    "            pos_not_present.update(list(range(start, end+1)))\n",
    "\n",
    "for b in beacons:\n",
    "    if b[1] == chosen_row:\n",
    "        pos_not_present.discard(b[0])\n"
   ]
  },
  {
   "cell_type": "code",
   "execution_count": 101,
   "metadata": {},
   "outputs": [
    {
     "data": {
      "text/plain": [
       "5147333"
      ]
     },
     "execution_count": 101,
     "metadata": {},
     "output_type": "execute_result"
    }
   ],
   "source": [
    "len(pos_not_present)"
   ]
  },
  {
   "cell_type": "code",
   "execution_count": null,
   "metadata": {},
   "outputs": [],
   "source": []
  }
 ],
 "metadata": {
  "kernelspec": {
   "display_name": "basic",
   "language": "python",
   "name": "python3"
  },
  "language_info": {
   "codemirror_mode": {
    "name": "ipython",
    "version": 3
   },
   "file_extension": ".py",
   "mimetype": "text/x-python",
   "name": "python",
   "nbconvert_exporter": "python",
   "pygments_lexer": "ipython3",
   "version": "3.8.15"
  },
  "orig_nbformat": 4,
  "vscode": {
   "interpreter": {
    "hash": "ca3084d8c98b5d6bffb51f29c5bd45aa3b318725f67bff0ea0e81724c271c438"
   }
  }
 },
 "nbformat": 4,
 "nbformat_minor": 2
}

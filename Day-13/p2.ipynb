{
 "cells": [
  {
   "cell_type": "code",
   "execution_count": 95,
   "metadata": {},
   "outputs": [],
   "source": [
    "def compare(left, right):\n",
    "    while len(left) and len(right):\n",
    "        l = left.pop(0)\n",
    "        r = right.pop(0)\n",
    "        if type(l) == int and type(r) == int:\n",
    "            if l < r:\n",
    "                return True\n",
    "            elif l > r: \n",
    "                return False\n",
    "        elif type(l) == int or type(r) == int:\n",
    "            if type(l) == int:\n",
    "                l = [l]\n",
    "            else:\n",
    "                r = [r]\n",
    "        if type(l) == list and type(r) == list:\n",
    "            result = compare(l, r)\n",
    "            if result != None:\n",
    "                return result\n",
    "    if len(left)<len(right):\n",
    "        return True\n",
    "    elif len(left)>len(right):\n",
    "        return False\n",
    "    return None\n",
    "    "
   ]
  },
  {
   "cell_type": "code",
   "execution_count": 96,
   "metadata": {},
   "outputs": [],
   "source": [
    "import ast\n",
    "\n",
    "entries = []\n",
    "\n",
    "with open('p1.txt', 'r') as f:\n",
    "    line = f.readline()\n",
    "    while line:\n",
    "        if line != '\\n':\n",
    "            new_line = ast.literal_eval(line.strip())\n",
    "            entries.append(new_line.copy())\n",
    "        else:\n",
    "            pass\n",
    "        line = f.readline()\n",
    "entries.append([[2]])\n",
    "entries.append([[6]])"
   ]
  },
  {
   "cell_type": "code",
   "execution_count": 98,
   "metadata": {},
   "outputs": [],
   "source": [
    "import copy\n",
    "\n",
    "n = len(entries)\n",
    "# Traverse through all array elements\n",
    "for i in range(n):\n",
    "\n",
    "    # Last i elements are already in place\n",
    "    for j in range(0, n-i-1):\n",
    "\n",
    "        # traverse the array from 0 to n-i-1\n",
    "        # Swap if the element found is greater\n",
    "        # than the next element\n",
    "        if not compare(copy.deepcopy(entries[j].copy()), copy.deepcopy(entries[j+1].copy())):\n",
    "            one = copy.deepcopy(entries[j+1])\n",
    "            two = copy.deepcopy(entries[j].copy())\n",
    "            entries[j], entries[j+1] = one, two"
   ]
  },
  {
   "cell_type": "code",
   "execution_count": 99,
   "metadata": {},
   "outputs": [
    {
     "name": "stdout",
     "output_type": "stream",
     "text": [
      "20056\n"
     ]
    }
   ],
   "source": [
    "ans = 1\n",
    "for index, val in enumerate(entries):\n",
    "    if val == [[2]]:\n",
    "        ans = ans * (index+1)\n",
    "    if val == [[6]]:\n",
    "        ans = ans * (index+1)\n",
    "print(ans)"
   ]
  },
  {
   "cell_type": "code",
   "execution_count": null,
   "metadata": {},
   "outputs": [],
   "source": []
  }
 ],
 "metadata": {
  "kernelspec": {
   "display_name": "Python 3.8.5 ('pytorch_base')",
   "language": "python",
   "name": "python3"
  },
  "language_info": {
   "codemirror_mode": {
    "name": "ipython",
    "version": 3
   },
   "file_extension": ".py",
   "mimetype": "text/x-python",
   "name": "python",
   "nbconvert_exporter": "python",
   "pygments_lexer": "ipython3",
   "version": "3.8.5"
  },
  "orig_nbformat": 4,
  "vscode": {
   "interpreter": {
    "hash": "7dc36fd19514296e611d847b8a0fc5b21044d3c31fd201d70b11fa05d247b2fb"
   }
  }
 },
 "nbformat": 4,
 "nbformat_minor": 2
}

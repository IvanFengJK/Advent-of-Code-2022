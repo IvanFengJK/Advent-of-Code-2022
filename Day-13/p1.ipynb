{
 "cells": [
  {
   "cell_type": "code",
   "execution_count": 84,
   "metadata": {},
   "outputs": [],
   "source": [
    "def compare(left, right):\n",
    "    while len(left) and len(right):\n",
    "        l = left.pop(0)\n",
    "        r = right.pop(0)\n",
    "        if type(l) == int and type(r) == int:\n",
    "            if l < r:\n",
    "                return True\n",
    "            elif l > r: \n",
    "                return False\n",
    "        elif type(l) == int or type(r) == int:\n",
    "            if type(l) == int:\n",
    "                l = [l]\n",
    "            else:\n",
    "                r = [r]\n",
    "        if type(l) == list and type(r) == list:\n",
    "            result = compare(l, r)\n",
    "            if result != None:\n",
    "                return result\n",
    "    if len(left)<len(right):\n",
    "        return True\n",
    "    elif len(left)>len(right):\n",
    "        return False\n",
    "    return None\n",
    "    "
   ]
  },
  {
   "cell_type": "code",
   "execution_count": 85,
   "metadata": {},
   "outputs": [],
   "source": [
    "import ast\n",
    "\n",
    "correct_indexes = []\n",
    "\n",
    "with open('p1.txt', 'r') as f:\n",
    "    counter = 0\n",
    "    left = 0\n",
    "    line = f.readline()\n",
    "    while line:\n",
    "        if line != '\\n':\n",
    "            new_line = ast.literal_eval(line.strip())\n",
    "            if left == 0:\n",
    "                left = new_line\n",
    "            else:\n",
    "                right = new_line\n",
    "        else:\n",
    "            counter += 1\n",
    "            if compare(left,right):\n",
    "                correct_indexes.append(counter)\n",
    "            left = 0\n",
    "        line = f.readline()\n",
    "    counter += 1\n",
    "    if compare(left,right):\n",
    "        correct_indexes.append(counter)"
   ]
  },
  {
   "cell_type": "code",
   "execution_count": 86,
   "metadata": {},
   "outputs": [
    {
     "data": {
      "text/plain": [
       "6415"
      ]
     },
     "execution_count": 86,
     "metadata": {},
     "output_type": "execute_result"
    }
   ],
   "source": [
    "sum(correct_indexes)"
   ]
  },
  {
   "cell_type": "code",
   "execution_count": null,
   "metadata": {},
   "outputs": [],
   "source": []
  }
 ],
 "metadata": {
  "kernelspec": {
   "display_name": "Python 3.8.5 ('pytorch_base')",
   "language": "python",
   "name": "python3"
  },
  "language_info": {
   "codemirror_mode": {
    "name": "ipython",
    "version": 3
   },
   "file_extension": ".py",
   "mimetype": "text/x-python",
   "name": "python",
   "nbconvert_exporter": "python",
   "pygments_lexer": "ipython3",
   "version": "3.8.5"
  },
  "orig_nbformat": 4,
  "vscode": {
   "interpreter": {
    "hash": "7dc36fd19514296e611d847b8a0fc5b21044d3c31fd201d70b11fa05d247b2fb"
   }
  }
 },
 "nbformat": 4,
 "nbformat_minor": 2
}

{
 "cells": [
  {
   "cell_type": "code",
   "execution_count": 27,
   "metadata": {},
   "outputs": [],
   "source": [
    "with open('p1.txt', 'r') as f:\n",
    "    lines = f.readlines()"
   ]
  },
  {
   "cell_type": "code",
   "execution_count": 46,
   "metadata": {},
   "outputs": [],
   "source": [
    "sum = []\n",
    "temp = 0\n",
    "for line in lines:\n",
    "    # Use the same idea of reading each new line\n",
    "    if line != '\\n':\n",
    "        temp += int(line.strip())\n",
    "    else:\n",
    "        # If you haven't check 3 elves yet, don't bother checking\n",
    "        if len(sum) < 3:\n",
    "            sum.append(temp)\n",
    "        # Check if it is less than the minimum\n",
    "        elif temp > min(sum):\n",
    "            # Sort to ensure that the smallest is remove first\n",
    "            sum.sort(reverse=True)\n",
    "            sum.pop()\n",
    "            sum.append(temp)\n",
    "        temp = 0\n",
    "if temp > min(sum):\n",
    "    sum.insert(0, temp)\n",
    "    sum.pop()\n",
    "temp = 0"
   ]
  },
  {
   "cell_type": "code",
   "execution_count": 47,
   "metadata": {},
   "outputs": [
    {
     "data": {
      "text/plain": [
       "[71300, 69249, 69142]"
      ]
     },
     "execution_count": 47,
     "metadata": {},
     "output_type": "execute_result"
    }
   ],
   "source": [
    "sum"
   ]
  },
  {
   "cell_type": "code",
   "execution_count": 48,
   "metadata": {},
   "outputs": [
    {
     "data": {
      "text/plain": [
       "209691"
      ]
     },
     "execution_count": 48,
     "metadata": {},
     "output_type": "execute_result"
    }
   ],
   "source": [
    "sum[0] + sum[1] + sum[2]"
   ]
  },
  {
   "cell_type": "code",
   "execution_count": null,
   "metadata": {},
   "outputs": [],
   "source": []
  }
 ],
 "metadata": {
  "kernelspec": {
   "display_name": "Python 3.8.10 64-bit",
   "language": "python",
   "name": "python3"
  },
  "language_info": {
   "codemirror_mode": {
    "name": "ipython",
    "version": 3
   },
   "file_extension": ".py",
   "mimetype": "text/x-python",
   "name": "python",
   "nbconvert_exporter": "python",
   "pygments_lexer": "ipython3",
   "version": "3.8.10"
  },
  "orig_nbformat": 4,
  "vscode": {
   "interpreter": {
    "hash": "31f2aee4e71d21fbe5cf8b01ff0e069b9275f58929596ceb00d14d90e3e16cd6"
   }
  }
 },
 "nbformat": 4,
 "nbformat_minor": 2
}

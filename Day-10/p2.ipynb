{
 "cells": [
  {
   "cell_type": "code",
   "execution_count": 46,
   "metadata": {},
   "outputs": [],
   "source": [
    "running_sum = [1]\n",
    "with open('p1.txt', 'r') as f:\n",
    "    line = f.readline()\n",
    "    while line:\n",
    "        instruction = line.strip().split(' ')\n",
    "        if len(instruction) == 1:\n",
    "            running_sum.append(running_sum[-1])\n",
    "        else:\n",
    "            running_sum.append(running_sum[-1])\n",
    "            running_sum.append(running_sum[-1] + int(instruction[1]))\n",
    "        line = f.readline()"
   ]
  },
  {
   "cell_type": "code",
   "execution_count": 47,
   "metadata": {},
   "outputs": [
    {
     "name": "stdout",
     "output_type": "stream",
     "text": [
      "\n",
      "# # # . . # # # # . . # # . . # # # . . # . . # . # # # . . # # # # . # # # # # \n",
      "# . . # . . . . # . # . . # . # . . # . # . # . . # . . # . # . . . . # . . # # \n",
      "# . . # . . . # . . # . . . . # . . # . # # . . . # . . # . # # # . . # # # . . \n",
      "# # # . . . # . . . # . # # . # # # . . # . # . . # # # . . # . . . . # . . # . \n",
      "# . . . . # . . . . # . . # . # . . . . # . # . . # . . . . # . . . . # . . # # \n",
      "# . . . . # # # # . . # # # . # . . . . # . . # . # . . . . # # # # . # # # . . "
     ]
    }
   ],
   "source": [
    "for i in range(240):\n",
    "    if i % 40 == 0:\n",
    "        print()\n",
    "    centre = running_sum[i]\n",
    "    CRT = ['.']*40\n",
    "    CRT[centre-1] = '#'\n",
    "    CRT[centre] = '#'\n",
    "    try:\n",
    "        CRT[centre+1] = '#'\n",
    "    except:\n",
    "        pass\n",
    "    print(CRT[i%40], end=' ')"
   ]
  },
  {
   "cell_type": "code",
   "execution_count": null,
   "metadata": {},
   "outputs": [],
   "source": []
  }
 ],
 "metadata": {
  "kernelspec": {
   "display_name": "Python 3.7.12 ('myenv')",
   "language": "python",
   "name": "python3"
  },
  "language_info": {
   "codemirror_mode": {
    "name": "ipython",
    "version": 3
   },
   "file_extension": ".py",
   "mimetype": "text/x-python",
   "name": "python",
   "nbconvert_exporter": "python",
   "pygments_lexer": "ipython3",
   "version": "3.7.12"
  },
  "orig_nbformat": 4,
  "vscode": {
   "interpreter": {
    "hash": "e47b1a34c05c1e3b83a62d7885c9d1b5ef8a0522d3be0182d0a008ec409b2b3d"
   }
  }
 },
 "nbformat": 4,
 "nbformat_minor": 2
}

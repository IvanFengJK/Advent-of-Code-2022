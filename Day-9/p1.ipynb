{
 "cells": [
  {
   "cell_type": "code",
   "execution_count": 52,
   "metadata": {},
   "outputs": [],
   "source": [
    "with open('p1.txt', 'r') as f:\n",
    "    lines = f.readlines()"
   ]
  },
  {
   "cell_type": "code",
   "execution_count": 53,
   "metadata": {},
   "outputs": [],
   "source": [
    "import math"
   ]
  },
  {
   "cell_type": "code",
   "execution_count": 54,
   "metadata": {},
   "outputs": [
    {
     "name": "stdout",
     "output_type": "stream",
     "text": [
      "6376\n"
     ]
    }
   ],
   "source": [
    "H_pos = [0,0]\n",
    "T_pos = [0,0]\n",
    "hist_T = []\n",
    "\n",
    "for line in lines:\n",
    "    instruction = line.strip().split(' ')\n",
    "    operation = None\n",
    "    left_or_right = None\n",
    "    if instruction[0] == 'R':\n",
    "        operation = '+'\n",
    "        left_or_right = 0\n",
    "    elif instruction[0] == 'L':\n",
    "        operation = '-'\n",
    "        left_or_right = 0\n",
    "    elif instruction[0] == 'U':\n",
    "        operation = '+'\n",
    "        left_or_right = 1\n",
    "    elif instruction[0] == 'D':\n",
    "        operation = '-'\n",
    "        left_or_right = 1\n",
    "        \n",
    "    for _ in range(int(instruction[1])):\n",
    "        if operation == '+':\n",
    "            H_pos[int(left_or_right)] += 1\n",
    "        else:\n",
    "            H_pos[int(left_or_right)] -= 1\n",
    "            \n",
    "        distance = math.hypot(H_pos[0]-T_pos[0], H_pos[1]-T_pos[1])\n",
    "        if distance == 2:\n",
    "            if operation == '+':\n",
    "                T_pos[int(left_or_right)] += 1\n",
    "            else:\n",
    "                T_pos[int(left_or_right)] -= 1\n",
    "        elif distance > 2:\n",
    "            if T_pos[0] < H_pos[0]:\n",
    "                T_pos[0] += 1\n",
    "            else:\n",
    "                T_pos[0] -= 1\n",
    "                \n",
    "            if T_pos[1] < H_pos[1]:\n",
    "                T_pos[1] += 1\n",
    "            else:\n",
    "                T_pos[1] -= 1\n",
    "        hist_T.append(T_pos.copy())\n",
    "                \n",
    "    # table = [['.'] * 6 for _ in range(5)]\n",
    "    # table[4-H_pos[1]][H_pos[0]] = 'H'\n",
    "    # table[4-T_pos[1]][T_pos[0]] = 'T'\n",
    "    # for row in table:\n",
    "    #     print(\"\".join(row))\n",
    "    # print()\n",
    "    # print(f'H: {H_pos} T: {T_pos}')\n",
    "print(len(set(tuple(row) for row in hist_T)))"
   ]
  },
  {
   "cell_type": "code",
   "execution_count": null,
   "metadata": {},
   "outputs": [],
   "source": []
  }
 ],
 "metadata": {
  "kernelspec": {
   "display_name": "Python 3.7.12 ('myenv')",
   "language": "python",
   "name": "python3"
  },
  "language_info": {
   "codemirror_mode": {
    "name": "ipython",
    "version": 3
   },
   "file_extension": ".py",
   "mimetype": "text/x-python",
   "name": "python",
   "nbconvert_exporter": "python",
   "pygments_lexer": "ipython3",
   "version": "3.7.12"
  },
  "orig_nbformat": 4,
  "vscode": {
   "interpreter": {
    "hash": "e47b1a34c05c1e3b83a62d7885c9d1b5ef8a0522d3be0182d0a008ec409b2b3d"
   }
  }
 },
 "nbformat": 4,
 "nbformat_minor": 2
}

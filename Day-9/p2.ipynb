{
 "cells": [
  {
   "cell_type": "code",
   "execution_count": 18,
   "metadata": {},
   "outputs": [],
   "source": [
    "with open('p1.txt', 'r') as f:\n",
    "    lines = f.readlines()"
   ]
  },
  {
   "cell_type": "code",
   "execution_count": 19,
   "metadata": {},
   "outputs": [],
   "source": [
    "import math\n",
    "\n",
    "class Knot:\n",
    "    def __init__(self):\n",
    "        self.x = 0\n",
    "        self.y = 0\n",
    "    \n",
    "    def R(self):\n",
    "        self.x += 1\n",
    "    def L(self):\n",
    "        self.x -= 1\n",
    "    def U(self):\n",
    "        self.y += 1\n",
    "    def D(self):\n",
    "        self.y -= 1\n",
    "    \n",
    "    def follow(self, k):\n",
    "        distance = math.hypot(k.x-self.x, k.y-self.y)\n",
    "        if distance >= 2:\n",
    "            if self.x < k.x:\n",
    "                self.x += 1\n",
    "            elif self.x > k.x:\n",
    "                self.x -= 1\n",
    "                \n",
    "            if self.y < k.y:\n",
    "                self.y += 1\n",
    "            elif self.y > k.y:\n",
    "                self.y -= 1\n",
    "                \n",
    "    def get_pos(self):\n",
    "        return (self.x, self.y)"
   ]
  },
  {
   "cell_type": "code",
   "execution_count": 20,
   "metadata": {},
   "outputs": [
    {
     "name": "stdout",
     "output_type": "stream",
     "text": [
      "2607\n"
     ]
    }
   ],
   "source": [
    "H = Knot()\n",
    "one = Knot()\n",
    "two = Knot()\n",
    "three = Knot()\n",
    "four = Knot()\n",
    "five = Knot()\n",
    "six = Knot()\n",
    "seven = Knot()\n",
    "eight = Knot()\n",
    "nine = Knot()\n",
    "hist_T = []\n",
    "\n",
    "for line in lines:\n",
    "    instruction = line.strip().split(' ')\n",
    "        \n",
    "    for _ in range(int(instruction[1])):\n",
    "        if instruction[0] == 'R':\n",
    "            H.R()\n",
    "        elif instruction[0] == 'L':\n",
    "            H.L()\n",
    "        elif instruction[0] == 'U':\n",
    "            H.U()\n",
    "        elif instruction[0] == 'D':\n",
    "            H.D()\n",
    "        \n",
    "        one.follow(H)\n",
    "        two.follow(one)\n",
    "        three.follow(two)\n",
    "        four.follow(three)\n",
    "        five.follow(four)\n",
    "        six.follow(five)\n",
    "        seven.follow(six)\n",
    "        eight.follow(seven)\n",
    "        nine.follow(eight)\n",
    "        \n",
    "        hist_T.append(nine.get_pos())\n",
    "                \n",
    "        # table = [['.'] * 6 for _ in range(5)]\n",
    "        # table[4-H.get_pos()[1]][H.get_pos()[0]] = 'H'\n",
    "        # table[4-one.get_pos()[1]][one.get_pos()[0]] = 'T'\n",
    "        # for row in table:\n",
    "        #     print(\"\".join(row))\n",
    "        # print()\n",
    "        \n",
    "print(len(set(tuple(row) for row in hist_T)))\n"
   ]
  },
  {
   "cell_type": "code",
   "execution_count": null,
   "metadata": {},
   "outputs": [],
   "source": []
  }
 ],
 "metadata": {
  "kernelspec": {
   "display_name": "Python 3.7.12 ('myenv')",
   "language": "python",
   "name": "python3"
  },
  "language_info": {
   "codemirror_mode": {
    "name": "ipython",
    "version": 3
   },
   "file_extension": ".py",
   "mimetype": "text/x-python",
   "name": "python",
   "nbconvert_exporter": "python",
   "pygments_lexer": "ipython3",
   "version": "3.7.12"
  },
  "orig_nbformat": 4,
  "vscode": {
   "interpreter": {
    "hash": "e47b1a34c05c1e3b83a62d7885c9d1b5ef8a0522d3be0182d0a008ec409b2b3d"
   }
  }
 },
 "nbformat": 4,
 "nbformat_minor": 2
}

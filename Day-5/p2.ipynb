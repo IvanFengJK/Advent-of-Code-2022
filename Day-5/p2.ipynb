{
 "cells": [
  {
   "cell_type": "code",
   "execution_count": 10,
   "metadata": {},
   "outputs": [],
   "source": [
    "import re\n",
    "\n",
    "with open('p1.txt', 'r') as f:\n",
    "    lines = f.readlines()"
   ]
  },
  {
   "cell_type": "code",
   "execution_count": 11,
   "metadata": {},
   "outputs": [],
   "source": [
    "from collections import OrderedDict"
   ]
  },
  {
   "cell_type": "code",
   "execution_count": 12,
   "metadata": {},
   "outputs": [],
   "source": [
    "storage = {}\n",
    "for line in lines:\n",
    "    if '[' in line:\n",
    "        for index in re.finditer(r'\\[', line):\n",
    "            stack_num = (index.start()+1)//4+1\n",
    "            if storage.get(stack_num):\n",
    "                storage[stack_num].insert(0, line[index.start()+1])\n",
    "            else:\n",
    "                storage[stack_num] = [line[index.start()+1]]\n",
    "        storage = OrderedDict(sorted(storage.items()))\n",
    "    if 'move' in line:\n",
    "        instruction = re.findall(r'(.*) (\\d+) (.*) (\\d+) (.*) (\\d+)',line)[0]\n",
    "        quantity = int(instruction[1])\n",
    "        source_stack = int(instruction[3])\n",
    "        destination_stack = int(instruction[5])\n",
    "        temp = []\n",
    "        for _ in range(quantity):\n",
    "            temp.insert(0, storage[source_stack].pop())\n",
    "        storage[destination_stack].extend(temp)\n"
   ]
  },
  {
   "cell_type": "code",
   "execution_count": 13,
   "metadata": {},
   "outputs": [],
   "source": [
    "ans = ''\n",
    "for i in range(len(storage.items())):\n",
    "    ans += storage[i+1].pop()"
   ]
  },
  {
   "cell_type": "code",
   "execution_count": 14,
   "metadata": {},
   "outputs": [
    {
     "data": {
      "text/plain": [
       "'NBTVTJNFJ'"
      ]
     },
     "execution_count": 14,
     "metadata": {},
     "output_type": "execute_result"
    }
   ],
   "source": [
    "ans"
   ]
  },
  {
   "cell_type": "code",
   "execution_count": null,
   "metadata": {},
   "outputs": [],
   "source": []
  }
 ],
 "metadata": {
  "kernelspec": {
   "display_name": "Python 3.8.5 ('pytorch_base')",
   "language": "python",
   "name": "python3"
  },
  "language_info": {
   "codemirror_mode": {
    "name": "ipython",
    "version": 3
   },
   "file_extension": ".py",
   "mimetype": "text/x-python",
   "name": "python",
   "nbconvert_exporter": "python",
   "pygments_lexer": "ipython3",
   "version": "3.8.5"
  },
  "orig_nbformat": 4,
  "vscode": {
   "interpreter": {
    "hash": "7dc36fd19514296e611d847b8a0fc5b21044d3c31fd201d70b11fa05d247b2fb"
   }
  }
 },
 "nbformat": 4,
 "nbformat_minor": 2
}

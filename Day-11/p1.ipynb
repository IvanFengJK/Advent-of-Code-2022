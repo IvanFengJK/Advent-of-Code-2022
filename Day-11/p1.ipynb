{
 "cells": [
  {
   "cell_type": "code",
   "execution_count": 154,
   "metadata": {},
   "outputs": [],
   "source": [
    "with open('p1.txt', 'r') as f:\n",
    "    lines = f.readlines()"
   ]
  },
  {
   "cell_type": "code",
   "execution_count": 155,
   "metadata": {},
   "outputs": [],
   "source": [
    "class Monkey:\n",
    "    def __init__(self, id, items, operation, divisible, next_monkey):\n",
    "        self.id = id\n",
    "        self.items = items\n",
    "        self.operation = operation\n",
    "        self.divisible = divisible\n",
    "        self.next_monkey = next_monkey\n",
    "        self.count = 0\n",
    "    \n",
    "    def add_item(self, item):\n",
    "        self.items.append(item)\n",
    "        \n",
    "    def inspect(self):\n",
    "        actions = []\n",
    "        while len(self.items)>0:\n",
    "            item = self.items.pop(0)\n",
    "            self.count += 1\n",
    "            old = item\n",
    "            new = eval(self.operation)\n",
    "            worry = new // 3\n",
    "            if worry % self.divisible == 0:\n",
    "                actions.append([self.next_monkey[0], worry])\n",
    "            else:\n",
    "                actions.append([self.next_monkey[1], worry])\n",
    "        return actions\n",
    "\n",
    "    def __str__(self) -> str:\n",
    "        return f\"Monkey {self.id} inspected items {self.count} times.\"\n",
    "                "
   ]
  },
  {
   "cell_type": "code",
   "execution_count": 156,
   "metadata": {},
   "outputs": [],
   "source": [
    "order = []\n",
    "for idx, line in enumerate(lines):\n",
    "    if \"Monkey\" in line:\n",
    "        id = int(lines[idx][6:-2])\n",
    "        items = [int(i.strip()) for i in lines[idx+1][17:].split(',')]\n",
    "        operation = lines[idx+2][19:].strip()\n",
    "        divisible = int(lines[idx+3][21:])\n",
    "        next_monkey = [int(lines[idx+4][29:]), int(lines[idx+5][29:])]\n",
    "        order.append(Monkey(id, items, operation, divisible, next_monkey))"
   ]
  },
  {
   "cell_type": "code",
   "execution_count": 157,
   "metadata": {},
   "outputs": [
    {
     "name": "stderr",
     "output_type": "stream",
     "text": [
      "100%|██████████| 20/20 [00:00<00:00, 1876.35it/s]\n"
     ]
    }
   ],
   "source": [
    "from tqdm import tqdm \n",
    "for _ in tqdm(range(20)):\n",
    "    for m in order:\n",
    "        actions = m.inspect()\n",
    "        for action in actions:\n",
    "            order[action[0]].add_item(action[1])"
   ]
  },
  {
   "cell_type": "code",
   "execution_count": 158,
   "metadata": {},
   "outputs": [
    {
     "data": {
      "text/plain": [
       "76728"
      ]
     },
     "execution_count": 158,
     "metadata": {},
     "output_type": "execute_result"
    }
   ],
   "source": [
    "sorted_list = sorted(order, key=lambda x: x.count, reverse=True)\n",
    "sorted_list[0].count * sorted_list[1].count"
   ]
  },
  {
   "cell_type": "code",
   "execution_count": null,
   "metadata": {},
   "outputs": [],
   "source": []
  }
 ],
 "metadata": {
  "kernelspec": {
   "display_name": "Python 3.7.12 ('myenv')",
   "language": "python",
   "name": "python3"
  },
  "language_info": {
   "codemirror_mode": {
    "name": "ipython",
    "version": 3
   },
   "file_extension": ".py",
   "mimetype": "text/x-python",
   "name": "python",
   "nbconvert_exporter": "python",
   "pygments_lexer": "ipython3",
   "version": "3.7.12"
  },
  "orig_nbformat": 4,
  "vscode": {
   "interpreter": {
    "hash": "e47b1a34c05c1e3b83a62d7885c9d1b5ef8a0522d3be0182d0a008ec409b2b3d"
   }
  }
 },
 "nbformat": 4,
 "nbformat_minor": 2
}

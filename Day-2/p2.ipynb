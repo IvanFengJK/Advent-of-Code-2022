{
 "cells": [
  {
   "cell_type": "code",
   "execution_count": 3,
   "metadata": {},
   "outputs": [],
   "source": [
    "with open('p1.txt', 'r') as f:\n",
    "    lines = f.readlines()"
   ]
  },
  {
   "cell_type": "code",
   "execution_count": 6,
   "metadata": {},
   "outputs": [],
   "source": [
    "import re\n",
    "\n",
    "opponent = {'A': 1, 'B': 2, 'C': 3}\n",
    "win_loss = {1: [2, 3], 2: [3, 1], 3: [1, 2]}\n",
    "result = {'X': 0, 'Y': 3, 'Z': 6}"
   ]
  },
  {
   "cell_type": "code",
   "execution_count": 7,
   "metadata": {},
   "outputs": [],
   "source": [
    "score = 0 \n",
    "for line in lines:\n",
    "    # Read each line to check if it is a new line\n",
    "    input = re.findall(r'(.*) (.*)', line)[0]\n",
    "    o = input[0]\n",
    "    r = input[1]\n",
    "    # Add the points for the result\n",
    "    score += result[r]\n",
    "\n",
    "    if result[r] == 3:\n",
    "        score += opponent[o]\n",
    "    else:\n",
    "        outcome = win_loss[opponent[o]]\n",
    "        if result[r] == 6:\n",
    "            score += outcome[0]\n",
    "        else:\n",
    "            score += outcome[1]"
   ]
  },
  {
   "cell_type": "code",
   "execution_count": 8,
   "metadata": {},
   "outputs": [
    {
     "data": {
      "text/plain": [
       "14610"
      ]
     },
     "execution_count": 8,
     "metadata": {},
     "output_type": "execute_result"
    }
   ],
   "source": [
    "score"
   ]
  },
  {
   "cell_type": "code",
   "execution_count": null,
   "metadata": {},
   "outputs": [],
   "source": []
  }
 ],
 "metadata": {
  "kernelspec": {
   "display_name": "Python 3.8.5 ('pytorch_base')",
   "language": "python",
   "name": "python3"
  },
  "language_info": {
   "codemirror_mode": {
    "name": "ipython",
    "version": 3
   },
   "file_extension": ".py",
   "mimetype": "text/x-python",
   "name": "python",
   "nbconvert_exporter": "python",
   "pygments_lexer": "ipython3",
   "version": "3.8.5"
  },
  "orig_nbformat": 4,
  "vscode": {
   "interpreter": {
    "hash": "7dc36fd19514296e611d847b8a0fc5b21044d3c31fd201d70b11fa05d247b2fb"
   }
  }
 },
 "nbformat": 4,
 "nbformat_minor": 2
}

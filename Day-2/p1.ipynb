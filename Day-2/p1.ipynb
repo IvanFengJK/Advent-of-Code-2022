{
 "cells": [
  {
   "cell_type": "code",
   "execution_count": 12,
   "metadata": {},
   "outputs": [],
   "source": [
    "with open('p1.txt', 'r') as f:\n",
    "    lines = f.readlines()"
   ]
  },
  {
   "cell_type": "code",
   "execution_count": 13,
   "metadata": {},
   "outputs": [],
   "source": [
    "import re"
   ]
  },
  {
   "cell_type": "code",
   "execution_count": 14,
   "metadata": {},
   "outputs": [],
   "source": [
    "opponent = {'A': 1, 'B': 2, 'C': 3}\n",
    "strategy = {'X': 1, 'Y': 2, 'Z': 3}"
   ]
  },
  {
   "cell_type": "code",
   "execution_count": 15,
   "metadata": {},
   "outputs": [],
   "source": [
    "score = 0 \n",
    "for line in lines:\n",
    "    # Read each line to check if it is a new line\n",
    "    input = re.findall(r'(.*) (.*)', line)[0]\n",
    "    o = input[0]\n",
    "    s = input[1]\n",
    "    score += strategy[s]\n",
    "\n",
    "    if opponent[o] == strategy[s]:\n",
    "        score += 3\n",
    "    else:\n",
    "        # Winning result\n",
    "        if((opponent[o] == 1 and strategy[s] == 2) or\n",
    "           (opponent[o] == 2 and strategy[s] == 1)):\n",
    "            result = 2\n",
    "        elif((opponent[o] == 1 and strategy[s] == 3) or\n",
    "           (opponent[o] == 3 and strategy[s] == 1)):\n",
    "            result = 1\n",
    "        else:\n",
    "            result = 3\n",
    "        \n",
    "        if strategy[s] == result:\n",
    "            score += 6\n",
    "        else:\n",
    "            score += 0"
   ]
  },
  {
   "cell_type": "code",
   "execution_count": 16,
   "metadata": {},
   "outputs": [
    {
     "data": {
      "text/plain": [
       "9241"
      ]
     },
     "execution_count": 16,
     "metadata": {},
     "output_type": "execute_result"
    }
   ],
   "source": [
    "score"
   ]
  },
  {
   "cell_type": "code",
   "execution_count": null,
   "metadata": {},
   "outputs": [],
   "source": []
  }
 ],
 "metadata": {
  "kernelspec": {
   "display_name": "Python 3.8.5 ('pytorch_base')",
   "language": "python",
   "name": "python3"
  },
  "language_info": {
   "codemirror_mode": {
    "name": "ipython",
    "version": 3
   },
   "file_extension": ".py",
   "mimetype": "text/x-python",
   "name": "python",
   "nbconvert_exporter": "python",
   "pygments_lexer": "ipython3",
   "version": "3.8.5"
  },
  "orig_nbformat": 4,
  "vscode": {
   "interpreter": {
    "hash": "7dc36fd19514296e611d847b8a0fc5b21044d3c31fd201d70b11fa05d247b2fb"
   }
  }
 },
 "nbformat": 4,
 "nbformat_minor": 2
}

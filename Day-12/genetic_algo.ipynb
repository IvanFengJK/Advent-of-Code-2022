{
 "cells": [
  {
   "cell_type": "code",
   "execution_count": 99,
   "metadata": {},
   "outputs": [],
   "source": [
    "table = []\n",
    "with open('sample.txt', 'r') as f:\n",
    "    line = f.readline()\n",
    "    y = 0\n",
    "    while line:\n",
    "        row = []\n",
    "        for character in line.strip():\n",
    "            if character == 'S':\n",
    "                start = [y, len(row)]\n",
    "                row.append(ord('a')-1)\n",
    "            elif character == 'E':\n",
    "                end = [y, len(row)]\n",
    "                row.append(ord('z')+1)\n",
    "            else:\n",
    "                row.append(ord(character))\n",
    "        table.append(row)\n",
    "        line = f.readline()\n",
    "        y += 1"
   ]
  },
  {
   "cell_type": "code",
   "execution_count": 100,
   "metadata": {},
   "outputs": [
    {
     "data": {
      "text/plain": [
       "[0, 0]"
      ]
     },
     "execution_count": 100,
     "metadata": {},
     "output_type": "execute_result"
    }
   ],
   "source": [
    "start"
   ]
  },
  {
   "cell_type": "code",
   "execution_count": 101,
   "metadata": {},
   "outputs": [
    {
     "data": {
      "image/png": "[encoded data removed]",
      "text/plain": [
       "<Figure size 432x288 with 1 Axes>"
      ]
     },
     "metadata": {
      "needs_background": "light"
     },
     "output_type": "display_data"
    }
   ],
   "source": [
    "import numpy as np\n",
    "import matplotlib.pyplot as plt\n",
    "\n",
    "a = np.array(table)\n",
    "plt.imshow(a, cmap='hot', interpolation='nearest')\n",
    "plt.show()"
   ]
  },
  {
   "cell_type": "code",
   "execution_count": 102,
   "metadata": {},
   "outputs": [
    {
     "data": {
      "text/plain": [
       "array([[ 96,  97,  98, 113, 112, 111, 110, 109],\n",
       "       [ 97,  98,  99, 114, 121, 120, 120, 108],\n",
       "       [ 97,  99,  99, 115, 122, 123, 120, 107],\n",
       "       [ 97,  99,  99, 116, 117, 118, 119, 106],\n",
       "       [ 97,  98, 100, 101, 102, 103, 104, 105]])"
      ]
     },
     "execution_count": 102,
     "metadata": {},
     "output_type": "execute_result"
    }
   ],
   "source": [
    "a"
   ]
  },
  {
   "cell_type": "code",
   "execution_count": 107,
   "metadata": {},
   "outputs": [],
   "source": [
    "# Initialise population\n",
    "import random\n",
    "\n",
    "from tqdm import tqdm\n",
    "import copy\n",
    "\n",
    "population_size = 10000\n",
    "population = []\n",
    "gene_length = len(table) * len(table[0]) * 2\n",
    "\n",
    "for _ in range(population_size):\n",
    "    population.append(np.random.randint(1,5, gene_length))"
   ]
  },
  {
   "cell_type": "code",
   "execution_count": 108,
   "metadata": {},
   "outputs": [
    {
     "name": "stderr",
     "output_type": "stream",
     "text": [
      "  0%|          | 0/200 [00:00<?, ?it/s]"
     ]
    },
    {
     "name": "stdout",
     "output_type": "stream",
     "text": [
      "[4 3 2 1 1 2 3 4 3 4 3 1 4 2 3 3 4 4 4 1 1 1 1 2 1 3 3 3 3 1 4 4 3 2 4 1 1\n",
      " 3 2 3 3 2 4 4 2 3 2 1 2 4 2 1 1 1 3 3 3 1 4 1 3 1 3 2 4 4 4 1 1 1 1 2 1 3\n",
      " 2 2 2 2 4 1]\n"
     ]
    },
    {
     "data": {
      "image/png": "[encoded data removed]",
      "text/plain": [
       "<Figure size 432x288 with 1 Axes>"
      ]
     },
     "metadata": {
      "needs_background": "light"
     },
     "output_type": "display_data"
    },
    {
     "name": "stdout",
     "output_type": "stream",
     "text": [
      "[3 2 3 4 2 4 1 1 2 2 1 4 2 3 1 1 3 1 2 1 4 2 4 1 3 4 1 3 4 1 3 4 3 1 3 1 2\n",
      " 3 2 1 2 2 3 4 1 1 1 4 2 3 1 1 3 3 1 3 1 3 2 3 2 3 4 3 2 2 1 4 1 2 2 4 3 4\n",
      " 4 2 2 3 1 1]\n"
     ]
    },
    {
     "data": {
      "image/png": "[encoded data removed]",
      "text/plain": [
       "<Figure size 432x288 with 1 Axes>"
      ]
     },
     "metadata": {
      "needs_background": "light"
     },
     "output_type": "display_data"
    },
    {
     "name": "stderr",
     "output_type": "stream",
     "text": []
    },
    {
     "name": "stdout",
     "output_type": "stream",
     "text": [
      "[2 1 2 1 2 2 4 1 2 4 3 3 4 1 1 3 2 1 4 3 2 4 1 3 1 3 1 2 2 4 3 1 3 2 3 3 3\n",
      " 2 2 4 2 4 2 1 3 2 3 2 1 3 2 2 1 1 1 1 2 1 4 3 3 3 2 1 1 4 1 4 4 3 2 1 3 3\n",
      " 4 3 1 2 4 1]\n"
     ]
    },
    {
     "data": {
      "image/png": "[encoded data removed]",
      "text/plain": [
       "<Figure size 432x288 with 1 Axes>"
      ]
     },
     "metadata": {
      "needs_background": "light"
     },
     "output_type": "display_data"
    },
    {
     "name": "stderr",
     "output_type": "stream",
     "text": []
    },
    {
     "name": "stdout",
     "output_type": "stream",
     "text": [
      "[3 2 3 3 3 3 4 1 3 1 1 1 3 3 2 1 3 4 2 2 1 1 4 4 1 2 1 1 2 3 2 1 4 1 2 2 3\n",
      " 3 2 4 4 2 3 3 4 3 2 1 4 1 1 2 3 4 3 1 2 2 4 3 1 1 4 4 4 1 3 3 1 1 3 2 2 1\n",
      " 1 4 2 4 2 2]\n"
     ]
    },
    {
     "data": {
      "image/png": "[encoded data removed]",
      "text/plain": [
       "<Figure size 432x288 with 1 Axes>"
      ]
     },
     "metadata": {
      "needs_background": "light"
     },
     "output_type": "display_data"
    },
    {
     "name": "stdout",
     "output_type": "stream",
     "text": [
      "[2 3 1 3 1 4 4 4 1 3 2 4 3 4 2 3 3 1 1 1 1 1 3 2 2 1 1 1 1 2 2 2 3 4 4 3 3\n",
      " 3 4 1 2 3 2 1 3 1 1 1 3 2 3 2 3 3 4 2 1 3 4 3 4 3 3 2 1 2 2 4 2 1 1 2 3 4\n",
      " 3 1 1 2 4 2]\n"
     ]
    },
    {
     "data": {
      "image/png": "[encoded data removed]",
      "text/plain": [
       "<Figure size 432x288 with 1 Axes>"
      ]
     },
     "metadata": {
      "needs_background": "light"
     },
     "output_type": "display_data"
    },
    {
     "name": "stderr",
     "output_type": "stream",
     "text": []
    },
    {
     "name": "stdout",
     "output_type": "stream",
     "text": [
      "[4 3 2 4 3 3 2 2 4 3 4 1 1 3 1 1 2 3 3 4 3 1 3 1 3 2 1 4 2 3 3 2 3 1 3 1 4\n",
      " 3 2 3 3 4 2 4 4 2 3 3 4 3 1 3 3 2 4 1 4 2 4 3 1 1 2 2 4 1 4 1 3 1 4 1 3 1\n",
      " 4 3 4 4 2 4]\n"
     ]
    },
    {
     "data": {
      "image/png": "[encoded data removed]",
      "text/plain": [
       "<Figure size 432x288 with 1 Axes>"
      ]
     },
     "metadata": {
      "needs_background": "light"
     },
     "output_type": "display_data"
    },
    {
     "name": "stderr",
     "output_type": "stream",
     "text": []
    },
    {
     "name": "stdout",
     "output_type": "stream",
     "text": [
      "[1 1 4 3 3 3 4 4 3 2 2 2 2 1 3 2 2 1 3 3 3 1 2 1 3 1 2 1 3 3 1 3 3 1 3 3 3\n",
      " 2 3 3 3 2 4 2 1 2 2 4 3 4 4 2 2 3 3 4 4 2 3 4 4 3 1 1 2 2 2 1 3 4 1 3 4 1\n",
      " 1 4 2 4 3 3]\n"
     ]
    },
    {
     "data": {
      "image/png": "[encoded data removed]",
      "text/plain": [
       "<Figure size 432x288 with 1 Axes>"
      ]
     },
     "metadata": {
      "needs_background": "light"
     },
     "output_type": "display_data"
    },
    {
     "name": "stderr",
     "output_type": "stream",
     "text": []
    },
    {
     "name": "stdout",
     "output_type": "stream",
     "text": [
      "[4 3 2 3 2 1 1 1 1 3 3 1 2 3 3 2 3 3 3 3 3 1 1 3 1 4 3 3 3 1 4 3 1 3 2 1 3\n",
      " 2 1 4 3 2 1 4 1 3 2 3 3 3 2 4 3 2 3 2 3 2 4 4 3 3 4 4 4 1 3 3 1 2 2 2 2 4\n",
      " 1 3 4 1 2 4]\n"
     ]
    },
    {
     "data": {
      "image/png": "[encoded data removed]",
      "text/plain": [
       "<Figure size 432x288 with 1 Axes>"
      ]
     },
     "metadata": {
      "needs_background": "light"
     },
     "output_type": "display_data"
    },
    {
     "name": "stdout",
     "output_type": "stream",
     "text": [
      "[3 2 3 1 4 3 3 4 3 1 3 1 2 1 1 3 2 3 3 3 1 3 1 2 2 2 1 1 3 2 4 2 3 1 2 4 4\n",
      " 3 3 1 3 3 4 2 4 2 1 1 2 2 4 2 3 2 2 4 1 4 3 1 1 4 2 3 4 2 1 3 4 4 1 3 3 4\n",
      " 2 4 4 3 3 4]\n"
     ]
    },
    {
     "data": {
      "image/png": "[encoded data removed]",
      "text/plain": [
       "<Figure size 432x288 with 1 Axes>"
      ]
     },
     "metadata": {
      "needs_background": "light"
     },
     "output_type": "display_data"
    },
    {
     "name": "stderr",
     "output_type": "stream",
     "text": [
      "  1%|          | 2/200 [00:11<18:57,  5.74s/it]"
     ]
    },
    {
     "name": "stdout",
     "output_type": "stream",
     "text": [
      "[3 1 3 1 3 1 1 3 3 1 3 1 1 3 1 3 1 1 2 3 2 2 1 2 3 1 2 1 2 3 4 3 2 4 3 1 4\n",
      " 1 2 4 2 2 2 3 4 4 2 2 1 2 2 2 1 1 2 2 1 1 2 2 2 2 1 4 1 2 3 4 2 4 2 2 1 2\n",
      " 3 3 4 1 4 4]\n"
     ]
    },
    {
     "data": {
      "image/png": "[encoded data removed]",
      "text/plain": [
       "<Figure size 432x288 with 1 Axes>"
      ]
     },
     "metadata": {
      "needs_background": "light"
     },
     "output_type": "display_data"
    },
    {
     "name": "stderr",
     "output_type": "stream",
     "text": [
      "  2%|▏         | 3/200 [00:17<18:25,  5.61s/it]"
     ]
    },
    {
     "name": "stdout",
     "output_type": "stream",
     "text": [
      "[3 2 3 1 1 3 1 1 1 3 4 1 3 2 3 3 2 3 3 2 3 4 3 4 4 2 1 2 2 2 1 1 1 2 1 2 1\n",
      " 3 2 2 3 3 2 4 3 4 3 2 3 4 3 4 3 2 2 3 4 1 3 2 1 4 2 4 1 2 2 2 2 4 4 4 3 3\n",
      " 4 1 2 2 3 1]\n"
     ]
    },
    {
     "data": {
      "image/png": "[encoded data removed]",
      "text/plain": [
       "<Figure size 432x288 with 1 Axes>"
      ]
     },
     "metadata": {
      "needs_background": "light"
     },
     "output_type": "display_data"
    },
    {
     "name": "stderr",
     "output_type": "stream",
     "text": [
      "  2%|▏         | 4/200 [00:22<17:59,  5.51s/it]"
     ]
    },
    {
     "name": "stdout",
     "output_type": "stream",
     "text": [
      "[3 2 3 1 1 3 1 1 1 3 4 1 3 2 3 3 2 3 3 2 3 4 3 3 4 2 1 2 2 2 1 2 1 1 1 2 1\n",
      " 3 2 2 3 3 2 4 3 4 3 2 3 4 3 4 3 2 2 3 4 1 3 2 1 4 2 4 1 2 2 2 2 4 4 4 3 3\n",
      " 4 1 2 1 3 1]\n"
     ]
    },
    {
     "data": {
      "image/png": "[encoded data removed]",
      "text/plain": [
       "<Figure size 432x288 with 1 Axes>"
      ]
     },
     "metadata": {
      "needs_background": "light"
     },
     "output_type": "display_data"
    },
    {
     "name": "stderr",
     "output_type": "stream",
     "text": []
    },
    {
     "name": "stdout",
     "output_type": "stream",
     "text": [
      "[3 1 1 1 3 1 3 3 4 3 3 1 3 1 1 2 2 2 2 3 4 3 1 2 2 2 1 1 3 2 4 2 3 1 2 4 4\n",
      " 3 3 1 3 3 4 2 4 2 1 1 2 2 4 2 3 2 2 4 1 4 3 1 1 4 2 3 4 2 1 3 4 4 1 3 3 4\n",
      " 2 4 4 3 2 4]\n"
     ]
    },
    {
     "data": {
      "image/png": "[encoded data removed]",
      "text/plain": [
       "<Figure size 432x288 with 1 Axes>"
      ]
     },
     "metadata": {
      "needs_background": "light"
     },
     "output_type": "display_data"
    },
    {
     "name": "stderr",
     "output_type": "stream",
     "text": [
      "  2%|▎         | 5/200 [00:27<17:42,  5.45s/it]"
     ]
    },
    {
     "name": "stdout",
     "output_type": "stream",
     "text": [
      "[2 3 2 3 1 1 1 1 3 1 3 1 3 3 2 3 2 2 1 3 4 2 2 3 3 2 2 4 3 2 4 4 1 3 1 4 2\n",
      " 3 3 3 3 3 2 4 3 3 2 4 1 3 1 4 4 3 3 2 4 1 2 2 2 4 2 4 2 1 3 3 3 4 3 4 1 3\n",
      " 4 3 3 4 1 4]\n"
     ]
    },
    {
     "data": {
      "image/png": "[encoded data removed]",
      "text/plain": [
       "<Figure size 432x288 with 1 Axes>"
      ]
     },
     "metadata": {
      "needs_background": "light"
     },
     "output_type": "display_data"
    },
    {
     "name": "stderr",
     "output_type": "stream",
     "text": [
      "  4%|▎         | 7/200 [00:38<17:00,  5.29s/it]"
     ]
    },
    {
     "name": "stdout",
     "output_type": "stream",
     "text": [
      "[3 1 1 1 3 1 3 3 4 3 3 1 3 1 1 2 2 2 2 3 4 3 2 2 2 2 1 1 3 2 1 2 3 1 2 4 4\n",
      " 3 3 1 3 3 4 2 4 2 1 1 2 2 4 2 3 2 2 4 1 4 3 1 1 4 2 3 4 2 1 3 4 4 1 3 3 4\n",
      " 2 4 4 3 3 4]\n"
     ]
    },
    {
     "data": {
      "image/png": "[encoded data removed]",
      "text/plain": [
       "<Figure size 432x288 with 1 Axes>"
      ]
     },
     "metadata": {
      "needs_background": "light"
     },
     "output_type": "display_data"
    },
    {
     "name": "stderr",
     "output_type": "stream",
     "text": []
    },
    {
     "name": "stdout",
     "output_type": "stream",
     "text": [
      "[3 1 1 1 3 1 3 3 4 3 3 1 3 1 1 2 2 2 2 3 4 3 2 2 3 2 3 3 3 2 4 1 1 4 1 3 4\n",
      " 2 2 1 1 1 4 3 1 4 3 1 4 3 3 2 1 1 1 4 4 1 4 2 3 4 3 2 3 4 1 3 1 3 4 3 4 3\n",
      " 2 4 3 3 2 3]\n"
     ]
    },
    {
     "data": {
      "image/png": "[encoded data removed]",
      "text/plain": [
       "<Figure size 432x288 with 1 Axes>"
      ]
     },
     "metadata": {
      "needs_background": "light"
     },
     "output_type": "display_data"
    },
    {
     "name": "stderr",
     "output_type": "stream",
     "text": [
      "  8%|▊         | 16/200 [01:24<15:38,  5.10s/it]"
     ]
    },
    {
     "name": "stdout",
     "output_type": "stream",
     "text": [
      "[3 1 1 1 3 1 3 3 4 3 3 1 3 3 1 2 2 2 2 3 4 3 2 2 3 2 3 4 3 4 4 1 1 4 1 3 1\n",
      " 2 2 1 1 2 2 2 3 3 2 4 1 1 4 1 4 3 1 3 1 4 3 1 1 4 3 3 4 2 1 3 4 4 1 3 3 4\n",
      " 2 4 4 3 3 4]\n"
     ]
    },
    {
     "data": {
      "image/png": "[encoded data removed]",
      "text/plain": [
       "<Figure size 432x288 with 1 Axes>"
      ]
     },
     "metadata": {
      "needs_background": "light"
     },
     "output_type": "display_data"
    },
    {
     "name": "stderr",
     "output_type": "stream",
     "text": [
      " 10%|█         | 20/200 [01:44<15:15,  5.09s/it]"
     ]
    },
    {
     "name": "stdout",
     "output_type": "stream",
     "text": [
      "[3 1 1 1 3 1 3 3 4 3 3 1 3 3 1 2 2 2 2 3 4 3 2 2 3 2 3 4 3 2 4 1 1 1 2 4 4\n",
      " 3 3 1 3 3 4 2 4 2 1 1 2 2 4 2 3 2 2 4 1 4 3 1 1 4 2 3 2 2 1 3 3 4 1 3 3 4\n",
      " 2 4 4 3 3 4]\n"
     ]
    },
    {
     "data": {
      "image/png": "[encoded data removed]",
      "text/plain": [
       "<Figure size 432x288 with 1 Axes>"
      ]
     },
     "metadata": {
      "needs_background": "light"
     },
     "output_type": "display_data"
    },
    {
     "name": "stderr",
     "output_type": "stream",
     "text": [
      " 10%|█         | 21/200 [01:49<15:10,  5.08s/it]"
     ]
    },
    {
     "name": "stdout",
     "output_type": "stream",
     "text": [
      "[3 1 1 1 3 1 3 3 4 3 3 1 3 3 1 2 2 2 2 3 4 3 2 2 1 2 3 4 3 2 4 1 1 4 1 3 1\n",
      " 2 2 1 1 2 2 2 3 3 2 4 1 1 4 1 4 3 1 3 1 4 3 1 1 4 3 3 4 2 1 3 4 4 4 3 3 4\n",
      " 2 4 4 3 3 4]\n"
     ]
    },
    {
     "data": {
      "image/png": "[encoded data removed]",
      "text/plain": [
       "<Figure size 432x288 with 1 Axes>"
      ]
     },
     "metadata": {
      "needs_background": "light"
     },
     "output_type": "display_data"
    },
    {
     "name": "stderr",
     "output_type": "stream",
     "text": [
      " 11%|█         | 22/200 [01:54<15:08,  5.10s/it]"
     ]
    },
    {
     "name": "stdout",
     "output_type": "stream",
     "text": [
      "[3 1 1 1 3 1 3 3 4 3 3 1 3 3 1 2 2 2 2 3 4 3 2 2 1 2 3 4 3 2 4 3 1 4 1 3 1\n",
      " 2 2 1 1 2 2 2 3 3 3 4 1 1 4 1 4 3 1 3 1 4 3 1 1 4 3 3 4 2 1 3 4 4 1 3 3 4\n",
      " 2 4 4 3 3 4]\n"
     ]
    },
    {
     "data": {
      "image/png": "[encoded data removed]",
      "text/plain": [
       "<Figure size 432x288 with 1 Axes>"
      ]
     },
     "metadata": {
      "needs_background": "light"
     },
     "output_type": "display_data"
    },
    {
     "name": "stderr",
     "output_type": "stream",
     "text": [
      " 12%|█▎        | 25/200 [02:10<14:46,  5.07s/it]"
     ]
    },
    {
     "name": "stdout",
     "output_type": "stream",
     "text": [
      "[3 1 1 1 3 1 3 3 4 3 3 1 3 3 1 2 2 2 2 3 4 3 2 1 3 2 3 4 3 2 4 1 1 1 1 2 1\n",
      " 3 2 2 2 3 2 2 3 3 4 4 4 4 2 3 2 3 4 1 3 3 4 2 3 3 3 4 2 4 1 4 4 3 4 1 1 3\n",
      " 3 2 3 3 3 1]\n"
     ]
    },
    {
     "data": {
      "image/png": "[encoded data removed]",
      "text/plain": [
       "<Figure size 432x288 with 1 Axes>"
      ]
     },
     "metadata": {
      "needs_background": "light"
     },
     "output_type": "display_data"
    },
    {
     "name": "stderr",
     "output_type": "stream",
     "text": [
      " 14%|█▎        | 27/200 [02:20<14:38,  5.08s/it]"
     ]
    },
    {
     "name": "stdout",
     "output_type": "stream",
     "text": [
      "[3 1 1 1 3 1 3 3 1 3 3 1 3 1 1 2 2 2 2 4 4 3 2 2 3 2 3 3 3 2 4 1 1 4 1 4 4\n",
      " 3 3 1 3 3 4 2 4 2 1 1 2 2 4 2 3 2 2 4 1 4 3 2 1 4 2 3 3 2 1 3 4 4 1 3 3 1\n",
      " 2 4 4 3 3 4]\n"
     ]
    },
    {
     "data": {
      "image/png": "[encoded data removed]",
      "text/plain": [
       "<Figure size 432x288 with 1 Axes>"
      ]
     },
     "metadata": {
      "needs_background": "light"
     },
     "output_type": "display_data"
    },
    {
     "name": "stderr",
     "output_type": "stream",
     "text": []
    },
    {
     "name": "stdout",
     "output_type": "stream",
     "text": [
      "[3 1 1 1 3 1 3 3 4 3 3 1 3 1 1 2 2 2 2 3 4 3 2 2 3 2 2 4 3 2 4 4 1 2 1 4 2\n",
      " 2 3 3 3 3 2 4 3 3 2 4 4 3 1 4 4 3 3 2 3 4 4 4 3 3 4 4 4 1 3 3 1 2 2 3 2 1\n",
      " 4 2 1 3 3 1]\n"
     ]
    },
    {
     "data": {
      "image/png": "[encoded data removed]",
      "text/plain": [
       "<Figure size 432x288 with 1 Axes>"
      ]
     },
     "metadata": {
      "needs_background": "light"
     },
     "output_type": "display_data"
    },
    {
     "name": "stderr",
     "output_type": "stream",
     "text": [
      " 18%|█▊        | 35/200 [03:01<13:55,  5.06s/it]"
     ]
    },
    {
     "name": "stdout",
     "output_type": "stream",
     "text": [
      "[3 1 1 1 3 1 1 3 3 4 3 1 1 3 1 3 1 2 3 3 2 2 1 2 3 2 2 4 3 2 4 4 1 3 4 4 2\n",
      " 2 2 1 2 2 2 3 4 4 2 2 1 2 2 2 1 1 2 2 1 1 2 2 2 2 3 2 3 4 1 3 1 3 4 3 4 3\n",
      " 2 4 2 3 4 3]\n"
     ]
    },
    {
     "data": {
      "image/png": "[encoded data removed]",
      "text/plain": [
       "<Figure size 432x288 with 1 Axes>"
      ]
     },
     "metadata": {
      "needs_background": "light"
     },
     "output_type": "display_data"
    },
    {
     "name": "stderr",
     "output_type": "stream",
     "text": [
      " 22%|██▏       | 44/200 [03:47<13:30,  5.20s/it]"
     ]
    },
    {
     "name": "stdout",
     "output_type": "stream",
     "text": [
      "[3 1 1 1 3 1 3 3 4 3 3 1 3 3 1 2 2 2 2 3 4 3 4 2 1 2 3 4 4 2 4 1 2 4 1 3 1\n",
      " 2 2 1 1 2 2 2 3 3 3 4 1 1 4 1 4 3 1 3 1 4 3 1 1 4 3 3 4 2 1 3 4 4 1 3 3 4\n",
      " 4 4 4 3 3 4]\n"
     ]
    },
    {
     "data": {
      "image/png": "[encoded data removed]",
      "text/plain": [
       "<Figure size 432x288 with 1 Axes>"
      ]
     },
     "metadata": {
      "needs_background": "light"
     },
     "output_type": "display_data"
    },
    {
     "name": "stderr",
     "output_type": "stream",
     "text": [
      " 24%|██▍       | 48/200 [04:08<12:55,  5.10s/it]"
     ]
    },
    {
     "name": "stdout",
     "output_type": "stream",
     "text": [
      "[3 1 1 1 3 1 3 3 4 3 3 1 3 3 1 2 2 2 2 3 4 4 2 2 3 2 4 4 3 2 4 1 1 4 1 3 1\n",
      " 2 2 1 1 2 2 2 3 3 3 4 1 1 4 1 4 3 1 3 4 2 2 2 3 4 2 3 3 4 3 1 1 1 4 3 4 2\n",
      " 1 4 4 2 3 4]\n"
     ]
    },
    {
     "data": {
      "image/png": "[encoded data removed]",
      "text/plain": [
       "<Figure size 432x288 with 1 Axes>"
      ]
     },
     "metadata": {
      "needs_background": "light"
     },
     "output_type": "display_data"
    },
    {
     "name": "stderr",
     "output_type": "stream",
     "text": [
      " 32%|███▏      | 63/200 [05:25<11:44,  5.14s/it]"
     ]
    },
    {
     "name": "stdout",
     "output_type": "stream",
     "text": [
      "[3 1 1 1 3 1 3 3 4 3 3 1 3 3 1 2 2 2 2 3 4 3 4 2 1 2 4 4 3 2 4 1 1 4 1 3 1\n",
      " 2 2 1 1 2 2 2 3 3 3 4 1 1 4 1 4 3 1 3 1 4 3 1 1 4 3 3 4 2 1 3 4 4 1 3 3 4\n",
      " 2 4 4 3 3 2]\n"
     ]
    },
    {
     "data": {
      "image/png": "[encoded data removed]",
      "text/plain": [
       "<Figure size 432x288 with 1 Axes>"
      ]
     },
     "metadata": {
      "needs_background": "light"
     },
     "output_type": "display_data"
    },
    {
     "name": "stderr",
     "output_type": "stream",
     "text": [
      " 36%|███▋      | 73/200 [06:16<10:48,  5.10s/it]"
     ]
    },
    {
     "name": "stdout",
     "output_type": "stream",
     "text": [
      "[3 1 1 1 3 1 3 3 4 3 3 1 3 3 1 2 2 2 2 3 4 2 2 2 3 2 4 4 1 2 4 1 1 4 1 3 1\n",
      " 2 2 1 1 2 2 2 3 3 3 2 3 4 3 4 3 2 2 4 4 1 3 2 4 4 2 4 1 2 3 4 2 3 2 3 3 4\n",
      " 2 4 4 3 3 4]\n"
     ]
    },
    {
     "data": {
      "image/png": "[encoded data removed]",
      "text/plain": [
       "<Figure size 432x288 with 1 Axes>"
      ]
     },
     "metadata": {
      "needs_background": "light"
     },
     "output_type": "display_data"
    },
    {
     "name": "stderr",
     "output_type": "stream",
     "text": [
      " 37%|███▋      | 74/200 [06:21<10:51,  5.17s/it]"
     ]
    },
    {
     "name": "stdout",
     "output_type": "stream",
     "text": [
      "[3 1 1 1 3 1 3 3 4 3 3 1 3 3 1 2 2 2 2 3 4 3 2 4 3 2 4 4 1 2 4 1 1 4 1 1 1\n",
      " 2 2 1 1 2 2 2 3 3 3 4 1 1 4 1 4 3 1 3 4 2 3 2 3 4 4 3 3 4 3 1 1 1 1 3 4 2\n",
      " 1 4 4 3 4 2]\n"
     ]
    },
    {
     "data": {
      "image/png": "[encoded data removed]",
      "text/plain": [
       "<Figure size 432x288 with 1 Axes>"
      ]
     },
     "metadata": {
      "needs_background": "light"
     },
     "output_type": "display_data"
    },
    {
     "name": "stderr",
     "output_type": "stream",
     "text": [
      " 40%|████      | 80/200 [06:52<10:13,  5.11s/it]"
     ]
    },
    {
     "name": "stdout",
     "output_type": "stream",
     "text": [
      "[3 1 1 1 3 1 3 3 4 3 3 1 3 3 1 2 2 2 2 3 4 3 2 2 3 2 4 4 1 2 4 1 1 4 1 3 1\n",
      " 2 2 1 1 2 2 2 3 3 3 4 1 1 4 1 4 3 1 3 4 4 3 2 3 4 4 3 3 4 3 1 1 1 4 4 3 3\n",
      " 4 3 3 4 4 4]\n"
     ]
    },
    {
     "data": {
      "image/png": "[encoded data removed]",
      "text/plain": [
       "<Figure size 432x288 with 1 Axes>"
      ]
     },
     "metadata": {
      "needs_background": "light"
     },
     "output_type": "display_data"
    },
    {
     "name": "stderr",
     "output_type": "stream",
     "text": [
      " 43%|████▎     | 86/200 [07:22<09:43,  5.12s/it]"
     ]
    },
    {
     "name": "stdout",
     "output_type": "stream",
     "text": [
      "[3 1 1 1 3 1 1 3 3 3 1 1 3 3 2 2 2 2 4 3 4 2 2 4 3 2 3 4 3 1 1 2 4 2 4 3 2\n",
      " 4 2 4 1 1 4 4 3 2 4 3 4 1 2 3 3 2 3 2 3 4 4 4 3 3 4 4 4 1 3 2 1 2 2 2 2 1\n",
      " 1 3 3 1 3 3]\n"
     ]
    },
    {
     "data": {
      "image/png": "[encoded data removed]",
      "text/plain": [
       "<Figure size 432x288 with 1 Axes>"
      ]
     },
     "metadata": {
      "needs_background": "light"
     },
     "output_type": "display_data"
    },
    {
     "name": "stderr",
     "output_type": "stream",
     "text": [
      " 50%|████▉     | 99/200 [08:29<08:37,  5.12s/it]"
     ]
    },
    {
     "name": "stdout",
     "output_type": "stream",
     "text": [
      "Shortest distance is 58 in generation 99\n",
      "[3 1 1 1 3 1 3 3 4 3 3 1 3 3 1 2 2 2 2 3 4 2 2 2 3 2 4 4 1 2 4 1 1 4 1 3 1\n",
      " 2 3 1 1 3 2 2 3 4 3 2 3 4 3 4 3 2 2 4 4 1 3 2 1 4 2 4 1 2 2 2 3 4 3 4 3 1\n",
      " 4 3 3 4 3 2]\n"
     ]
    },
    {
     "data": {
      "image/png": "[encoded data removed]",
      "text/plain": [
       "<Figure size 432x288 with 1 Axes>"
      ]
     },
     "metadata": {
      "needs_background": "light"
     },
     "output_type": "display_data"
    },
    {
     "name": "stderr",
     "output_type": "stream",
     "text": [
      "100%|██████████| 200/200 [16:35<00:00,  4.98s/it]\n"
     ]
    }
   ],
   "source": [
    "shortest = 1000000000000000\n",
    "fittest = 0\n",
    "for generation in tqdm(range(200)):\n",
    "    temp_table = copy.deepcopy(table)\n",
    "    # Generation 1\n",
    "    fitnesses = []\n",
    "    for agent in tqdm(population, leave=False):\n",
    "        fit = 0\n",
    "        for index, direction in enumerate(agent):\n",
    "            if index == 0:\n",
    "                current = start.copy()\n",
    "            valid = False\n",
    "            if direction == 1:\n",
    "                if (current[0] + 1) < len(table) and table[current[0]][current[1]] - table[current[0]+1][current[1]] > -2:\n",
    "                    current[0] = current[0] + 1\n",
    "                    valid = True\n",
    "            elif direction == 2:\n",
    "                if (current[0] - 1) > -1 and table[current[0]][current[1]] - table[current[0]-1][current[1]] > -2:\n",
    "                    current[0] = current[0] - 1\n",
    "                    valid = True\n",
    "            elif direction == 3:\n",
    "                if (current[1] + 1) < len(table[0]) and table[current[0]][current[1]] - table[current[0]][current[1]+1] > -2:\n",
    "                    current[1] = current[1] + 1\n",
    "                    valid = True\n",
    "            elif direction == 4:\n",
    "                if (current[1] - 1) > -1 and table[current[0]][current[1]] - table[current[0]][current[1]-1] > -2:\n",
    "                    current[1] = current[1] - 1\n",
    "                    valid = True\n",
    "            if valid:\n",
    "                fit += (table[current[0]][current[1]] - ord('a'))*2\n",
    "            else:\n",
    "                fit += (table[current[0]][current[1]] - ord('a'))\n",
    "            if current == end:\n",
    "                # print(f'Reach in {index} steps')\n",
    "                fit += (25 * (len(agent)-index))\n",
    "                if index < shortest:\n",
    "                    shortest = index\n",
    "                    print(f'Shortest distance is {shortest} in generation {generation}')\n",
    "                break\n",
    "        fit += table[current[0]][current[1]] - ord('a')\n",
    "        fit += ord('z') - abs(current[0]-end[0]) - abs(current[1]-end[1])\n",
    "        if fit < 0:\n",
    "            fit = 0\n",
    "        fitnesses.append(fit)\n",
    "        if fit > fittest:\n",
    "            for index, direction in enumerate(agent):\n",
    "                if index == 0:\n",
    "                    current = start.copy()\n",
    "                    temp_table[current[0]][current[1]] = ord('a') - 10\n",
    "                if direction == 1:\n",
    "                    if (current[0] + 1) < len(table) and table[current[0]][current[1]] - table[current[0]+1][current[1]] > -2:\n",
    "                        current[0] = current[0] + 1\n",
    "                        temp_table[current[0]][current[1]] = ord('a') - 10\n",
    "                elif direction == 2:\n",
    "                    if (current[0] - 1) > -1 and table[current[0]][current[1]] - table[current[0]-1][current[1]] > -2:\n",
    "                        current[0] = current[0] - 1\n",
    "                        temp_table[current[0]][current[1]] = ord('a') - 10\n",
    "                elif direction == 3:\n",
    "                    if (current[1] + 1) < len(table[0]) and table[current[0]][current[1]] - table[current[0]][current[1]+1] > -2:\n",
    "                        current[1] = current[1] + 1\n",
    "                        temp_table[current[0]][current[1]] = ord('a') - 10\n",
    "                elif direction == 4:\n",
    "                    if (current[1] - 1) > -1 and table[current[0]][current[1]] - table[current[0]][current[1]-1] > -2:\n",
    "                        current[1] = current[1] - 1\n",
    "                        temp_table[current[0]][current[1]] = ord('a') - 10\n",
    "                if current == end:\n",
    "                    break\n",
    "            print(agent)\n",
    "            a = np.array(temp_table)\n",
    "            plt.imshow(a, cmap='hot', interpolation='nearest')\n",
    "            plt.show()\n",
    "            fittest = fit\n",
    "    normaliser = sum(fitnesses)\n",
    "    weight = [ fit/normaliser for fit in fitnesses]\n",
    "\n",
    "    new_population = []\n",
    "    for _ in tqdm(range(population_size//2), leave=False):\n",
    "        draw = np.random.choice(list(range(population_size)), 2, p=weight)\n",
    "        index = np.random.randint(0,shortest, 1)[0]\n",
    "        \n",
    "        new_gene = np.append(population[draw[0]][:index], population[draw[1]][index:shortest+1])\n",
    "        # mutation\n",
    "        choice = random.uniform(0,1)\n",
    "        while choice > 0.9:\n",
    "            index = np.random.randint(0,len(new_gene), 1)[0]\n",
    "            new_gene[index] = np.random.randint(1, 5, 1)[0]\n",
    "            choice = random.uniform(0,1)\n",
    "        new_population.append(new_gene)\n",
    "        \n",
    "        new_gene = np.append(population[draw[1]][:index], population[draw[0]][index:shortest+1])\n",
    "        # mutation\n",
    "        choice = random.uniform(0,1)\n",
    "        while choice > 0.7:\n",
    "            index = np.random.randint(0,len(new_gene), 1)[0]\n",
    "            new_gene[index] = np.random.randint(1, 5, 1)[0]\n",
    "            choice = random.uniform(0,1)\n",
    "        new_population.append(new_gene)\n",
    "\n",
    "    population = new_population.copy()"
   ]
  },
  {
   "cell_type": "code",
   "execution_count": null,
   "metadata": {},
   "outputs": [],
   "source": []
  }
 ],
 "metadata": {
  "kernelspec": {
   "display_name": "Python 3.8.5 ('pytorch_base')",
   "language": "python",
   "name": "python3"
  },
  "language_info": {
   "codemirror_mode": {
    "name": "ipython",
    "version": 3
   },
   "file_extension": ".py",
   "mimetype": "text/x-python",
   "name": "python",
   "nbconvert_exporter": "python",
   "pygments_lexer": "ipython3",
   "version": "3.8.5"
  },
  "orig_nbformat": 4,
  "vscode": {
   "interpreter": {
    "hash": "7dc36fd19514296e611d847b8a0fc5b21044d3c31fd201d70b11fa05d247b2fb"
   }
  }
 },
 "nbformat": 4,
 "nbformat_minor": 2
}

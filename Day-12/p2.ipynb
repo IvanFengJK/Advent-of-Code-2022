{
 "cells": [
  {
   "cell_type": "code",
   "execution_count": 1,
   "metadata": {},
   "outputs": [],
   "source": [
    "class Vertex:\n",
    "    def __init__(self, height):\n",
    "        self.height = height\n",
    "        self.visited = False\n",
    "        self.dist = 0"
   ]
  },
  {
   "cell_type": "code",
   "execution_count": 2,
   "metadata": {},
   "outputs": [],
   "source": [
    "table = []\n",
    "\n",
    "with open('p1.txt', 'r') as f:\n",
    "    line = f.readline()\n",
    "    row = 0\n",
    "    while line:\n",
    "        temp = []\n",
    "        for index, character in enumerate(line.strip()):\n",
    "            if character == 'S':\n",
    "                start = [row, index]\n",
    "                temp.append(Vertex(ord('a')))\n",
    "            elif character == 'E':\n",
    "                end = [row, index]\n",
    "                temp.append(Vertex(ord('z')))\n",
    "            else:\n",
    "                temp.append(Vertex(ord(character)))\n",
    "        table.append(temp)\n",
    "        line = f.readline()\n",
    "        row += 1"
   ]
  },
  {
   "cell_type": "code",
   "execution_count": 3,
   "metadata": {},
   "outputs": [
    {
     "name": "stdout",
     "output_type": "stream",
     "text": [
      "416\n"
     ]
    }
   ],
   "source": [
    "to_be_visited = [end]\n",
    "while len(to_be_visited)>0:\n",
    "    pos = to_be_visited.pop(0)\n",
    "    if table[pos[0]][pos[1]].height == ord('a'):\n",
    "        print(table[pos[0]][pos[1]].dist)\n",
    "        break\n",
    "    options = [[pos[0]-1, pos[1]], [pos[0]+1, pos[1]], [pos[0], pos[1]-1], [pos[0], pos[1]+1]]\n",
    "    for option in options:\n",
    "        try:\n",
    "            assert table[option[0]][option[1]].visited == False\n",
    "            assert table[pos[0]][pos[1]].height - table[option[0]][option[1]].height < 2\n",
    "            table[option[0]][option[1]].visited = True\n",
    "            table[option[0]][option[1]].dist = table[pos[0]][pos[1]].dist + 1\n",
    "            to_be_visited.append(option)\n",
    "        except:\n",
    "            pass"
   ]
  },
  {
   "cell_type": "code",
   "execution_count": null,
   "metadata": {},
   "outputs": [],
   "source": []
  }
 ],
 "metadata": {
  "kernelspec": {
   "display_name": "Python 3.8.5 ('pytorch_base')",
   "language": "python",
   "name": "python3"
  },
  "language_info": {
   "codemirror_mode": {
    "name": "ipython",
    "version": 3
   },
   "file_extension": ".py",
   "mimetype": "text/x-python",
   "name": "python",
   "nbconvert_exporter": "python",
   "pygments_lexer": "ipython3",
   "version": "3.8.5"
  },
  "orig_nbformat": 4,
  "vscode": {
   "interpreter": {
    "hash": "7dc36fd19514296e611d847b8a0fc5b21044d3c31fd201d70b11fa05d247b2fb"
   }
  }
 },
 "nbformat": 4,
 "nbformat_minor": 2
}

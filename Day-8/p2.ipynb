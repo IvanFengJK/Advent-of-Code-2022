{
 "cells": [
  {
   "cell_type": "code",
   "execution_count": 10,
   "metadata": {},
   "outputs": [],
   "source": [
    "table = []\n",
    "with open('p1.txt', 'r') as f:\n",
    "    line = f.readline()\n",
    "    while line:\n",
    "        table.append([int(character) for character in line.strip()])\n",
    "        line = f.readline()"
   ]
  },
  {
   "cell_type": "code",
   "execution_count": 11,
   "metadata": {},
   "outputs": [],
   "source": [
    "import numpy as np\n",
    "table = np.array(table)"
   ]
  },
  {
   "cell_type": "code",
   "execution_count": 12,
   "metadata": {},
   "outputs": [],
   "source": [
    "def visible_trees(tree_height, heights):\n",
    "    count = 0 \n",
    "    for height in heights:\n",
    "        count += 1\n",
    "        if height >= tree_height:\n",
    "            break\n",
    "    return count"
   ]
  },
  {
   "cell_type": "code",
   "execution_count": 13,
   "metadata": {},
   "outputs": [
    {
     "name": "stdout",
     "output_type": "stream",
     "text": [
      "287040\n"
     ]
    }
   ],
   "source": [
    "count = table.shape[0]*table.shape[1]\n",
    "hightest_scenic_score = 0\n",
    "for i in range(1, table.shape[0]-1):\n",
    "    for j in range(1, table.shape[1]-1):\n",
    "        left = np.flip(table[i, :j])\n",
    "        right = table[i, j+1:]\n",
    "        top = np.flip(table[:i,j])\n",
    "        bottom = table[i+1:, j]\n",
    "        tree_height = table[i,j]\n",
    "        scenic_score = visible_trees(tree_height, left) * visible_trees(tree_height, right) * visible_trees(tree_height, top) * visible_trees(tree_height, bottom)\n",
    "        if scenic_score > hightest_scenic_score:\n",
    "            hightest_scenic_score = scenic_score\n",
    "print(hightest_scenic_score)\n",
    "        "
   ]
  },
  {
   "cell_type": "code",
   "execution_count": null,
   "metadata": {},
   "outputs": [],
   "source": []
  }
 ],
 "metadata": {
  "kernelspec": {
   "display_name": "Python 3.7.12 ('myenv')",
   "language": "python",
   "name": "python3"
  },
  "language_info": {
   "codemirror_mode": {
    "name": "ipython",
    "version": 3
   },
   "file_extension": ".py",
   "mimetype": "text/x-python",
   "name": "python",
   "nbconvert_exporter": "python",
   "pygments_lexer": "ipython3",
   "version": "3.7.12"
  },
  "orig_nbformat": 4,
  "vscode": {
   "interpreter": {
    "hash": "e47b1a34c05c1e3b83a62d7885c9d1b5ef8a0522d3be0182d0a008ec409b2b3d"
   }
  }
 },
 "nbformat": 4,
 "nbformat_minor": 2
}
